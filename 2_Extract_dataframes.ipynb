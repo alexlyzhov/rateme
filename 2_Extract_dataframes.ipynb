{
 "cells": [
  {
   "cell_type": "code",
   "execution_count": 1,
   "metadata": {
    "collapsed": true
   },
   "outputs": [],
   "source": [
    "import pickle\n",
    "import pandas as pd\n",
    "import numpy as np\n",
    "import arrow\n",
    "import pprint\n",
    "from collections import Counter\n",
    "from datetime import datetime\n",
    "from tqdm import tqdm"
   ]
  },
  {
   "cell_type": "code",
   "execution_count": 2,
   "metadata": {},
   "outputs": [
    {
     "name": "stdout",
     "output_type": "stream",
     "text": [
      "28893\n"
     ]
    }
   ],
   "source": [
    "posts = pickle.load(open('rateme_submissions.dat', 'rb'))\n",
    "print(len(posts))"
   ]
  },
  {
   "cell_type": "code",
   "execution_count": 11,
   "metadata": {
    "collapsed": true
   },
   "outputs": [],
   "source": [
    "# post = posts[0]\n",
    "# comment = post.comments[0]"
   ]
  },
  {
   "cell_type": "code",
   "execution_count": 18,
   "metadata": {
    "collapsed": true
   },
   "outputs": [],
   "source": [
    "# for key in vars(post).keys():\n",
    "#     print(vars(post)[key])"
   ]
  },
  {
   "cell_type": "code",
   "execution_count": 19,
   "metadata": {
    "collapsed": true
   },
   "outputs": [],
   "source": [
    "# posts_df = pd.DataFrame(posts)"
   ]
  },
  {
   "cell_type": "code",
   "execution_count": 3,
   "metadata": {
    "collapsed": true
   },
   "outputs": [],
   "source": [
    "posts_vars = [vars(post) for post in posts]"
   ]
  },
  {
   "cell_type": "markdown",
   "metadata": {},
   "source": [
    "## Posts exploration"
   ]
  },
  {
   "cell_type": "code",
   "execution_count": 111,
   "metadata": {
    "collapsed": true
   },
   "outputs": [],
   "source": [
    "lists_of_keys = [list(post_vars.keys()) for post_vars in posts_vars]"
   ]
  },
  {
   "cell_type": "code",
   "execution_count": 112,
   "metadata": {
    "collapsed": true
   },
   "outputs": [],
   "source": [
    "keys = sorted(list(set([item for sublist in lists_of_keys for item in sublist])))"
   ]
  },
  {
   "cell_type": "code",
   "execution_count": 113,
   "metadata": {
    "collapsed": true
   },
   "outputs": [],
   "source": [
    "key_values = {key : [post_vars[key] if key in post_vars\n",
    "                     else None for post_vars in posts_vars] for key in keys}"
   ]
  },
  {
   "cell_type": "code",
   "execution_count": 114,
   "metadata": {
    "scrolled": true
   },
   "outputs": [
    {
     "data": {
      "text/plain": [
       "[(0, '_comments'),\n",
       " (1, '_comments_by_id'),\n",
       " (2, '_fetched'),\n",
       " (3, '_flair'),\n",
       " (4, '_info_params'),\n",
       " (5, '_mod'),\n",
       " (6, '_reddit'),\n",
       " (7, 'approved_at_utc'),\n",
       " (8, 'approved_by'),\n",
       " (9, 'archived'),\n",
       " (10, 'author'),\n",
       " (11, 'author_cakeday'),\n",
       " (12, 'author_flair_css_class'),\n",
       " (13, 'author_flair_text'),\n",
       " (14, 'banned_at_utc'),\n",
       " (15, 'banned_by'),\n",
       " (16, 'brand_safe'),\n",
       " (17, 'can_gild'),\n",
       " (18, 'can_mod_post'),\n",
       " (19, 'clicked'),\n",
       " (20, 'comment_limit'),\n",
       " (21, 'comment_sort'),\n",
       " (22, 'contest_mode'),\n",
       " (23, 'created'),\n",
       " (24, 'created_utc'),\n",
       " (25, 'distinguished'),\n",
       " (26, 'domain'),\n",
       " (27, 'downs'),\n",
       " (28, 'edited'),\n",
       " (29, 'gilded'),\n",
       " (30, 'hidden'),\n",
       " (31, 'hide_score'),\n",
       " (32, 'id'),\n",
       " (33, 'is_crosspostable'),\n",
       " (34, 'is_reddit_media_domain'),\n",
       " (35, 'is_self'),\n",
       " (36, 'is_video'),\n",
       " (37, 'likes'),\n",
       " (38, 'link_flair_css_class'),\n",
       " (39, 'link_flair_text'),\n",
       " (40, 'locked'),\n",
       " (41, 'media'),\n",
       " (42, 'media_embed'),\n",
       " (43, 'mod_note'),\n",
       " (44, 'mod_reason_by'),\n",
       " (45, 'mod_reason_title'),\n",
       " (46, 'mod_reports'),\n",
       " (47, 'name'),\n",
       " (48, 'num_comments'),\n",
       " (49, 'num_crossposts'),\n",
       " (50, 'num_reports'),\n",
       " (51, 'over_18'),\n",
       " (52, 'parent_whitelist_status'),\n",
       " (53, 'permalink'),\n",
       " (54, 'pinned'),\n",
       " (55, 'post_hint'),\n",
       " (56, 'preview'),\n",
       " (57, 'quarantine'),\n",
       " (58, 'removal_reason'),\n",
       " (59, 'report_reasons'),\n",
       " (60, 'saved'),\n",
       " (61, 'score'),\n",
       " (62, 'secure_media'),\n",
       " (63, 'secure_media_embed'),\n",
       " (64, 'selftext'),\n",
       " (65, 'selftext_html'),\n",
       " (66, 'spoiler'),\n",
       " (67, 'stickied'),\n",
       " (68, 'subreddit'),\n",
       " (69, 'subreddit_id'),\n",
       " (70, 'subreddit_name_prefixed'),\n",
       " (71, 'subreddit_type'),\n",
       " (72, 'suggested_sort'),\n",
       " (73, 'thumbnail'),\n",
       " (74, 'thumbnail_height'),\n",
       " (75, 'thumbnail_width'),\n",
       " (76, 'title'),\n",
       " (77, 'ups'),\n",
       " (78, 'upvote_ratio'),\n",
       " (79, 'url'),\n",
       " (80, 'user_reports'),\n",
       " (81, 'view_count'),\n",
       " (82, 'visited'),\n",
       " (83, 'whitelist_status')]"
      ]
     },
     "execution_count": 114,
     "metadata": {},
     "output_type": "execute_result"
    }
   ],
   "source": [
    "list(enumerate(keys))"
   ]
  },
  {
   "cell_type": "code",
   "execution_count": 345,
   "metadata": {},
   "outputs": [
    {
     "data": {
      "text/plain": [
       "[('house_only', 28893)]"
      ]
     },
     "execution_count": 345,
     "metadata": {},
     "output_type": "execute_result"
    }
   ],
   "source": [
    "Counter(key_values[keys[83]]).most_common()"
   ]
  },
  {
   "cell_type": "code",
   "execution_count": 241,
   "metadata": {
    "collapsed": true
   },
   "outputs": [],
   "source": [
    "medias = list(filter(lambda x: x is not None, key_values[keys[41]]))"
   ]
  },
  {
   "cell_type": "code",
   "execution_count": 341,
   "metadata": {
    "collapsed": true
   },
   "outputs": [],
   "source": [
    "indices = [i for i, x in enumerate(key_values[keys[80]]) if x is not None]"
   ]
  },
  {
   "cell_type": "code",
   "execution_count": 342,
   "metadata": {},
   "outputs": [
    {
     "name": "stdout",
     "output_type": "stream",
     "text": [
      "[0, 1, 2, 3, 4]\n"
     ]
    }
   ],
   "source": [
    "print(indices[:5])"
   ]
  },
  {
   "cell_type": "code",
   "execution_count": 324,
   "metadata": {
    "collapsed": true
   },
   "outputs": [],
   "source": [
    "# [x for x in key_values['media'] if x is not None and\n",
    "#                                    'oembed' in x.keys() and\n",
    "#                                    'url' in x['oembed'].keys() and\n",
    "#                                    'youtube' in x['oembed']['url'].lower()]"
   ]
  },
  {
   "cell_type": "code",
   "execution_count": 312,
   "metadata": {
    "collapsed": true
   },
   "outputs": [],
   "source": [
    "# [post.title for post in [posts[index] for index in indices]]"
   ]
  },
  {
   "cell_type": "raw",
   "metadata": {},
   "source": [
    "comments - save in a separate df, not in vars, call it separately\n",
    "author - needed\n",
    "author_flair_text - None or not\n",
    "created_utc - needed\n",
    "distinguished - check and exclude posts with 'moderator'. others are None and needed\n",
    "edited - False or not (others are True and timestamp)\n",
    "gilded - 0 or 1\n",
    "id\n",
    "is_self - bool\n",
    "link_flair_text - check and exclude if not None\n",
    "media - if not None, extract fields oembed -> width, height, thumbnail_width, thumbnail_height.\n",
    "    also can exclude youtube\n",
    "over_18 - bool\n",
    "permalink - needed to be able to go there manually\n",
    "score - int\n",
    "selftext\n",
    "title\n",
    "\n",
    "---\n",
    "preview - one preview image if exists and links to different resolution versions of it"
   ]
  },
  {
   "cell_type": "markdown",
   "metadata": {},
   "source": [
    "## Create DF"
   ]
  },
  {
   "cell_type": "code",
   "execution_count": 5,
   "metadata": {
    "collapsed": true
   },
   "outputs": [],
   "source": [
    "df = pd.DataFrame()"
   ]
  },
  {
   "cell_type": "code",
   "execution_count": 421,
   "metadata": {
    "collapsed": true
   },
   "outputs": [],
   "source": [
    "post = posts[1000]\n",
    "row = {}"
   ]
  },
  {
   "cell_type": "code",
   "execution_count": 422,
   "metadata": {
    "collapsed": true
   },
   "outputs": [],
   "source": [
    "if post.distinguished == 'moderator':\n",
    "#     break\n",
    "    pass\n",
    "if post.link_flair_text is not None:\n",
    "    # break\n",
    "    pass"
   ]
  },
  {
   "cell_type": "code",
   "execution_count": 423,
   "metadata": {
    "collapsed": true
   },
   "outputs": [],
   "source": [
    "row['author'] = post.author.name\n",
    "row['author_has_flair'] = (post.author_flair_text is not None)\n",
    "row['created'] = pd.Timestamp(datetime.utcfromtimestamp(post.created_utc))\n",
    "row['edited'] = (post.edited != False)\n",
    "row['gilded'] = (post.gilded == 1)\n",
    "row['id'] = post.id\n",
    "row['is_self'] = post.is_self\n",
    "row['over_18'] = post.over_18\n",
    "row['permalink'] = post.permalink\n",
    "row['score'] = post.score\n",
    "row['selftext'] = post.selftext\n",
    "row['title'] = post.title\n",
    "\n",
    "if post.media is not None and 'oembed' in post.media.keys():\n",
    "    row['width'] = post.media['oembed']['width']\n",
    "    row['height'] = post.media['oembed']['height']\n",
    "    row['thumbnail_width'] = post.media['oembed']['thumbnail_width']\n",
    "    row['thumbnail_height'] = post.media['oembed']['thumbnail_height']\n",
    "else:\n",
    "    row['width'] = row['height'] = row['thumbnail_width'] = row['thumbnail_height'] = None"
   ]
  },
  {
   "cell_type": "code",
   "execution_count": 425,
   "metadata": {
    "collapsed": true
   },
   "outputs": [],
   "source": [
    "# row"
   ]
  },
  {
   "cell_type": "code",
   "execution_count": 435,
   "metadata": {
    "collapsed": true
   },
   "outputs": [],
   "source": [
    "df = df.append([row])"
   ]
  },
  {
   "cell_type": "code",
   "execution_count": 6,
   "metadata": {},
   "outputs": [
    {
     "name": "stderr",
     "output_type": "stream",
     "text": [
      "100%|████████████████████████████████████████████████████████████████████████████| 28893/28893 [12:23<00:00, 24.45it/s]\n"
     ]
    }
   ],
   "source": [
    "df = pd.DataFrame()\n",
    "for post in tqdm(posts):\n",
    "    row = {}\n",
    "    if post.distinguished == 'moderator':\n",
    "        continue\n",
    "    if post.link_flair_text is not None:\n",
    "        continue\n",
    "        \n",
    "    row['author'] = post.author.name\n",
    "    row['author_has_flair'] = (post.author_flair_text is not None)\n",
    "    row['created'] = pd.to_datetime(datetime.utcfromtimestamp(post.created_utc))\n",
    "    row['edited'] = (post.edited != False)\n",
    "    row['gilded'] = (post.gilded == 1)\n",
    "    row['id'] = post.id\n",
    "    row['is_self'] = post.is_self\n",
    "    row['over_18'] = post.over_18\n",
    "    row['permalink'] = post.permalink\n",
    "    row['score'] = post.score\n",
    "    row['selftext'] = post.selftext\n",
    "    row['title'] = post.title\n",
    "\n",
    "    if post.media is not None and 'oembed' in post.media.keys():\n",
    "        if 'width' in post.media['oembed'].keys():\n",
    "            row['width'] = post.media['oembed']['width']\n",
    "        if 'height' in post.media['oembed'].keys():\n",
    "            row['height'] = post.media['oembed']['height']\n",
    "        if 'thumbnail_width' in post.media['oembed'].keys():\n",
    "            row['thumbnail_width'] = post.media['oembed']['thumbnail_width']\n",
    "        if 'thumbnail_height' in post.media['oembed'].keys():\n",
    "            row['thumbnail_height'] = post.media['oembed']['thumbnail_height']\n",
    "    else:\n",
    "        row['width'] = row['height'] = row['thumbnail_width'] = row['thumbnail_height'] = None\n",
    "        \n",
    "    df = df.append([row])"
   ]
  },
  {
   "cell_type": "markdown",
   "metadata": {},
   "source": [
    "## To/from CSV. Failed for some obscure reason. I'll pickle."
   ]
  },
  {
   "cell_type": "code",
   "execution_count": 195,
   "metadata": {
    "collapsed": true
   },
   "outputs": [],
   "source": [
    "df.to_csv('df.csv', encoding='utf8', index=False)"
   ]
  },
  {
   "cell_type": "code",
   "execution_count": 34,
   "metadata": {},
   "outputs": [
    {
     "data": {
      "text/html": [
       "<div>\n",
       "<style>\n",
       "    .dataframe thead tr:only-child th {\n",
       "        text-align: right;\n",
       "    }\n",
       "\n",
       "    .dataframe thead th {\n",
       "        text-align: left;\n",
       "    }\n",
       "\n",
       "    .dataframe tbody tr th {\n",
       "        vertical-align: top;\n",
       "    }\n",
       "</style>\n",
       "<table border=\"1\" class=\"dataframe\">\n",
       "  <thead>\n",
       "    <tr style=\"text-align: right;\">\n",
       "      <th></th>\n",
       "      <th>author</th>\n",
       "      <th>author_has_flair</th>\n",
       "      <th>created</th>\n",
       "      <th>edited</th>\n",
       "      <th>gilded</th>\n",
       "      <th>height</th>\n",
       "      <th>id</th>\n",
       "      <th>is_self</th>\n",
       "      <th>over_18</th>\n",
       "      <th>permalink</th>\n",
       "      <th>score</th>\n",
       "      <th>selftext</th>\n",
       "      <th>thumbnail_height</th>\n",
       "      <th>thumbnail_width</th>\n",
       "      <th>title</th>\n",
       "      <th>width</th>\n",
       "    </tr>\n",
       "  </thead>\n",
       "  <tbody>\n",
       "    <tr>\n",
       "      <th>0</th>\n",
       "      <td>djantigravity</td>\n",
       "      <td>False</td>\n",
       "      <td>2009-12-15 06:02:36</td>\n",
       "      <td>False</td>\n",
       "      <td>False</td>\n",
       "      <td>None</td>\n",
       "      <td>aes21</td>\n",
       "      <td>True</td>\n",
       "      <td>False</td>\n",
       "      <td>/r/Rateme/comments/aes21/nervous_but_ill_give_...</td>\n",
       "      <td>7</td>\n",
       "      <td>http://imgur.com/d12Cd Me a couple of months a...</td>\n",
       "      <td>None</td>\n",
       "      <td>None</td>\n",
       "      <td>Nervous, but I'll give it a shot. [M]</td>\n",
       "      <td>None</td>\n",
       "    </tr>\n",
       "    <tr>\n",
       "      <th>0</th>\n",
       "      <td>hitogokoro</td>\n",
       "      <td>False</td>\n",
       "      <td>2009-12-15 05:53:59</td>\n",
       "      <td>True</td>\n",
       "      <td>False</td>\n",
       "      <td>None</td>\n",
       "      <td>aeryj</td>\n",
       "      <td>True</td>\n",
       "      <td>False</td>\n",
       "      <td>/r/Rateme/comments/aeryj/i_posted_pictures_in_...</td>\n",
       "      <td>8</td>\n",
       "      <td>So I'm 21 now and a college student. I thought...</td>\n",
       "      <td>None</td>\n",
       "      <td>None</td>\n",
       "      <td>I posted pictures in a couple of other posts, ...</td>\n",
       "      <td>None</td>\n",
       "    </tr>\n",
       "    <tr>\n",
       "      <th>0</th>\n",
       "      <td>nictheamazing</td>\n",
       "      <td>False</td>\n",
       "      <td>2010-04-26 23:04:41</td>\n",
       "      <td>False</td>\n",
       "      <td>False</td>\n",
       "      <td>None</td>\n",
       "      <td>bwg68</td>\n",
       "      <td>False</td>\n",
       "      <td>False</td>\n",
       "      <td>/r/Rateme/comments/bwg68/rate/</td>\n",
       "      <td>29</td>\n",
       "      <td></td>\n",
       "      <td>None</td>\n",
       "      <td>None</td>\n",
       "      <td>rate?</td>\n",
       "      <td>None</td>\n",
       "    </tr>\n",
       "    <tr>\n",
       "      <th>0</th>\n",
       "      <td>zoide</td>\n",
       "      <td>False</td>\n",
       "      <td>2010-07-02 03:06:16</td>\n",
       "      <td>False</td>\n",
       "      <td>False</td>\n",
       "      <td>None</td>\n",
       "      <td>cl62k</td>\n",
       "      <td>False</td>\n",
       "      <td>False</td>\n",
       "      <td>/r/Rateme/comments/cl62k/after_a_long_day_and_...</td>\n",
       "      <td>31</td>\n",
       "      <td></td>\n",
       "      <td>None</td>\n",
       "      <td>None</td>\n",
       "      <td>after a long day and a lot of weed</td>\n",
       "      <td>None</td>\n",
       "    </tr>\n",
       "    <tr>\n",
       "      <th>0</th>\n",
       "      <td>yourpasswordisshit</td>\n",
       "      <td>False</td>\n",
       "      <td>2010-07-04 04:37:24</td>\n",
       "      <td>False</td>\n",
       "      <td>False</td>\n",
       "      <td>None</td>\n",
       "      <td>clsmq</td>\n",
       "      <td>False</td>\n",
       "      <td>False</td>\n",
       "      <td>/r/Rateme/comments/clsmq/me/</td>\n",
       "      <td>3</td>\n",
       "      <td></td>\n",
       "      <td>None</td>\n",
       "      <td>None</td>\n",
       "      <td>Me</td>\n",
       "      <td>None</td>\n",
       "    </tr>\n",
       "  </tbody>\n",
       "</table>\n",
       "</div>"
      ],
      "text/plain": [
       "               author  author_has_flair             created  edited  gilded  \\\n",
       "0       djantigravity             False 2009-12-15 06:02:36   False   False   \n",
       "0          hitogokoro             False 2009-12-15 05:53:59    True   False   \n",
       "0       nictheamazing             False 2010-04-26 23:04:41   False   False   \n",
       "0               zoide             False 2010-07-02 03:06:16   False   False   \n",
       "0  yourpasswordisshit             False 2010-07-04 04:37:24   False   False   \n",
       "\n",
       "  height     id  is_self  over_18  \\\n",
       "0   None  aes21     True    False   \n",
       "0   None  aeryj     True    False   \n",
       "0   None  bwg68    False    False   \n",
       "0   None  cl62k    False    False   \n",
       "0   None  clsmq    False    False   \n",
       "\n",
       "                                           permalink  score  \\\n",
       "0  /r/Rateme/comments/aes21/nervous_but_ill_give_...      7   \n",
       "0  /r/Rateme/comments/aeryj/i_posted_pictures_in_...      8   \n",
       "0                     /r/Rateme/comments/bwg68/rate/     29   \n",
       "0  /r/Rateme/comments/cl62k/after_a_long_day_and_...     31   \n",
       "0                       /r/Rateme/comments/clsmq/me/      3   \n",
       "\n",
       "                                            selftext thumbnail_height  \\\n",
       "0  http://imgur.com/d12Cd Me a couple of months a...             None   \n",
       "0  So I'm 21 now and a college student. I thought...             None   \n",
       "0                                                                None   \n",
       "0                                                                None   \n",
       "0                                                                None   \n",
       "\n",
       "  thumbnail_width                                              title width  \n",
       "0            None              Nervous, but I'll give it a shot. [M]  None  \n",
       "0            None  I posted pictures in a couple of other posts, ...  None  \n",
       "0            None                                              rate?  None  \n",
       "0            None                 after a long day and a lot of weed  None  \n",
       "0            None                                                 Me  None  "
      ]
     },
     "execution_count": 34,
     "metadata": {},
     "output_type": "execute_result"
    }
   ],
   "source": [
    "df.head()"
   ]
  },
  {
   "cell_type": "code",
   "execution_count": 176,
   "metadata": {},
   "outputs": [
    {
     "data": {
      "text/plain": [
       "(28845, 16)"
      ]
     },
     "execution_count": 176,
     "metadata": {},
     "output_type": "execute_result"
    }
   ],
   "source": [
    "df.shape"
   ]
  },
  {
   "cell_type": "code",
   "execution_count": 179,
   "metadata": {},
   "outputs": [
    {
     "data": {
      "text/plain": [
       "author                      object\n",
       "author_has_flair              bool\n",
       "created             datetime64[ns]\n",
       "edited                        bool\n",
       "gilded                        bool\n",
       "height                      object\n",
       "id                          object\n",
       "is_self                       bool\n",
       "over_18                       bool\n",
       "permalink                   object\n",
       "score                        int64\n",
       "selftext                    object\n",
       "thumbnail_height            object\n",
       "thumbnail_width             object\n",
       "title                       object\n",
       "width                       object\n",
       "dtype: object"
      ]
     },
     "execution_count": 179,
     "metadata": {},
     "output_type": "execute_result"
    }
   ],
   "source": [
    "df.dtypes"
   ]
  },
  {
   "cell_type": "code",
   "execution_count": 168,
   "metadata": {},
   "outputs": [
    {
     "data": {
      "text/plain": [
       "author                      object\n",
       "author_has_flair              bool\n",
       "created             datetime64[ns]\n",
       "edited                      object\n",
       "gilded                      object\n",
       "height                     float64\n",
       "id                          object\n",
       "is_self                     object\n",
       "over_18                     object\n",
       "permalink                   object\n",
       "score                      float64\n",
       "selftext                    object\n",
       "thumbnail_height           float64\n",
       "thumbnail_width            float64\n",
       "title                       object\n",
       "width                      float64\n",
       "dtype: object"
      ]
     },
     "execution_count": 168,
     "metadata": {},
     "output_type": "execute_result"
    }
   ],
   "source": [
    "new_df.dtypes"
   ]
  },
  {
   "cell_type": "code",
   "execution_count": 196,
   "metadata": {
    "collapsed": true
   },
   "outputs": [],
   "source": [
    "new_df = pd.read_csv('df.csv')"
   ]
  },
  {
   "cell_type": "code",
   "execution_count": 199,
   "metadata": {},
   "outputs": [
    {
     "data": {
      "text/plain": [
       "(28845, 16)"
      ]
     },
     "execution_count": 199,
     "metadata": {},
     "output_type": "execute_result"
    }
   ],
   "source": [
    "df.shape"
   ]
  },
  {
   "cell_type": "code",
   "execution_count": 201,
   "metadata": {
    "collapsed": true
   },
   "outputs": [],
   "source": [
    "# new_df[new_df.created.isnull()]"
   ]
  },
  {
   "cell_type": "code",
   "execution_count": 226,
   "metadata": {
    "collapsed": true
   },
   "outputs": [],
   "source": [
    "df.to_csv('df.csv', encoding='utf8', index=False)"
   ]
  },
  {
   "cell_type": "code",
   "execution_count": 227,
   "metadata": {
    "collapsed": true
   },
   "outputs": [],
   "source": [
    "def date_parser(time_series):\n",
    "    return pd.to_datetime(time_series, errors='coerce')\n",
    "\n",
    "new_df = pd.read_csv('df.csv', encoding = 'utf8', index_col=None,\n",
    "                    dtype = {'created': str, 'author_has_flair': bool}, parse_dates=['created'], date_parser=date_parser)\n",
    "\n",
    "# new_df = new_df.dropna(subset=['created'])\n",
    "# new_df.author_has_flair = new_df.author_has_flair.astype(bool)\n",
    "# new_df.edited = new_df.edited.astype(bool) # messy!\n",
    "# new_df.author_has_flair = new_df.author_has_flair.astype(bool)\n",
    "# new_df.author_has_flair = new_df.author_has_flair.astype(bool)\n",
    "# new_df.author_has_flair = new_df.author_has_flair.astype(bool)"
   ]
  },
  {
   "cell_type": "code",
   "execution_count": 225,
   "metadata": {},
   "outputs": [
    {
     "data": {
      "text/plain": [
       "(28865, 16)"
      ]
     },
     "execution_count": 225,
     "metadata": {},
     "output_type": "execute_result"
    }
   ],
   "source": [
    "new_df.shape"
   ]
  },
  {
   "cell_type": "code",
   "execution_count": 171,
   "metadata": {},
   "outputs": [
    {
     "data": {
      "text/plain": [
       "Counter({False: 28561, True: 284, nan: 17})"
      ]
     },
     "execution_count": 171,
     "metadata": {},
     "output_type": "execute_result"
    }
   ],
   "source": [
    "Counter(new_df.author_has_flair)"
   ]
  },
  {
   "cell_type": "markdown",
   "metadata": {},
   "source": [
    "## Pickling"
   ]
  },
  {
   "cell_type": "code",
   "execution_count": 231,
   "metadata": {
    "collapsed": true
   },
   "outputs": [],
   "source": [
    "pickle.dump(df, open('posts_df.dat', 'wb'))"
   ]
  },
  {
   "cell_type": "code",
   "execution_count": 8,
   "metadata": {
    "collapsed": true
   },
   "outputs": [],
   "source": [
    "posts_df = pickle.load(open('posts_df.dat', 'rb'))"
   ]
  },
  {
   "cell_type": "markdown",
   "metadata": {},
   "source": [
    "## Comments"
   ]
  },
  {
   "cell_type": "code",
   "execution_count": 242,
   "metadata": {
    "collapsed": true
   },
   "outputs": [],
   "source": [
    "post = posts[1000]"
   ]
  },
  {
   "cell_type": "code",
   "execution_count": 243,
   "metadata": {},
   "outputs": [
    {
     "data": {
      "text/plain": [
       "'u35ps'"
      ]
     },
     "execution_count": 243,
     "metadata": {},
     "output_type": "execute_result"
    }
   ],
   "source": [
    "post.id"
   ]
  },
  {
   "cell_type": "code",
   "execution_count": 251,
   "metadata": {
    "collapsed": true
   },
   "outputs": [],
   "source": [
    "# df[df.id.str.contains(post.id)]"
   ]
  },
  {
   "cell_type": "code",
   "execution_count": 252,
   "metadata": {
    "collapsed": true
   },
   "outputs": [],
   "source": [
    "comments = post.comments.list()"
   ]
  },
  {
   "cell_type": "code",
   "execution_count": 259,
   "metadata": {
    "collapsed": true
   },
   "outputs": [],
   "source": [
    "# indices = np.random.randint(0, 10000, 100)\n",
    "# for index in tqdm(indices):\n",
    "#     post = posts[index]\n",
    "#     comments = post.comments.list()\n",
    "#     for comment in comments:\n",
    "#         if comment.downs > 0:\n",
    "#             print(comment.downs)"
   ]
  },
  {
   "cell_type": "markdown",
   "metadata": {},
   "source": [
    "author, body, ups, id, permalink, created_utc, edited, gilded, parent_id (remove first 3 letters), is_submitter, replies"
   ]
  },
  {
   "cell_type": "code",
   "execution_count": 287,
   "metadata": {
    "collapsed": true
   },
   "outputs": [],
   "source": [
    "comment = comments[3]"
   ]
  },
  {
   "cell_type": "code",
   "execution_count": 288,
   "metadata": {},
   "outputs": [
    {
     "data": {
      "text/plain": [
       "'t1_ccd5kbh'"
      ]
     },
     "execution_count": 288,
     "metadata": {},
     "output_type": "execute_result"
    }
   ],
   "source": [
    "comment.parent_id"
   ]
  },
  {
   "cell_type": "code",
   "execution_count": 10,
   "metadata": {
    "scrolled": true
   },
   "outputs": [
    {
     "name": "stderr",
     "output_type": "stream",
     "text": [
      "6893it [3:13:14,  4.93s/it]\n"
     ]
    }
   ],
   "source": [
    "df = pd.DataFrame()\n",
    "for i, post in tqdm(enumerate(posts)):\n",
    "    if not posts_df.id.str.contains(post.id).any():\n",
    "        continue\n",
    "    comments_forest = post.comments\n",
    "    replacement_res = comments_forest.replace_more()  # I don't need the return value\n",
    "    comments = comments_forest.list()\n",
    "    for comment in comments:\n",
    "        if comment.author is None:\n",
    "            continue\n",
    "        row = {}\n",
    "        row['name'] = comment.author.name\n",
    "        row['body'] = comment.body\n",
    "        row['score'] = comment.ups\n",
    "        row['id'] = comment.id\n",
    "        row['permalink'] = comment.permalink\n",
    "        row['created'] = pd.to_datetime(datetime.utcfromtimestamp(comment.created_utc))\n",
    "        row['edited'] = comment.edited\n",
    "        row['gilded'] = (comment.gilded == 1)\n",
    "        row['parent_post_id'] = comment.parent_id[3:] if comment.parent_id[:3] == 't3_' else None\n",
    "        row['parent_comment_id'] = comment.parent_id[3:] if comment.parent_id[:3] == 't1_' else None\n",
    "        if comment.parent_id[:3] != 't3_' and comment.parent_id[:3] != 't1_':\n",
    "            pprint.pprint(vars(comment))\n",
    "#         row['parent_id'] = comment.parent_id\n",
    "        row['is_submitter'] = comment.is_submitter\n",
    "        row['replies'] = [comment.id for comment in comment.replies.list()]\n",
    "        \n",
    "        df = df.append([row])\n",
    "    if i % 1000 == 0:\n",
    "        pickle.dump(df, open('comments_df.dat', 'wb'))"
   ]
  },
  {
   "cell_type": "code",
   "execution_count": 12,
   "metadata": {},
   "outputs": [],
   "source": [
    "first = pickle.load(open('comments_df_until_17000.dat', 'rb'))"
   ]
  },
  {
   "cell_type": "code",
   "execution_count": 13,
   "metadata": {
    "collapsed": true
   },
   "outputs": [],
   "source": [
    "second = pickle.load(open('comments_df_17000_22000.dat', 'rb'))"
   ]
  },
  {
   "cell_type": "code",
   "execution_count": 14,
   "metadata": {
    "collapsed": true
   },
   "outputs": [],
   "source": [
    "third = pickle.load(open('comments_df_22000plus.dat', 'rb'))"
   ]
  },
  {
   "cell_type": "code",
   "execution_count": 20,
   "metadata": {},
   "outputs": [],
   "source": [
    "full = pd.concat([first, second, third])"
   ]
  },
  {
   "cell_type": "code",
   "execution_count": 21,
   "metadata": {
    "collapsed": true
   },
   "outputs": [],
   "source": [
    "pickle.dump(full, open('comments_df.dat', 'wb'))"
   ]
  },
  {
   "cell_type": "code",
   "execution_count": null,
   "metadata": {
    "collapsed": true
   },
   "outputs": [],
   "source": []
  }
 ],
 "metadata": {
  "kernelspec": {
   "display_name": "Python 3",
   "language": "python",
   "name": "python3"
  },
  "language_info": {
   "codemirror_mode": {
    "name": "ipython",
    "version": 3
   },
   "file_extension": ".py",
   "mimetype": "text/x-python",
   "name": "python",
   "nbconvert_exporter": "python",
   "pygments_lexer": "ipython3",
   "version": "3.6.1"
  }
 },
 "nbformat": 4,
 "nbformat_minor": 2
}
