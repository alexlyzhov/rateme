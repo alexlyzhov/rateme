{
 "cells": [
  {
   "cell_type": "code",
   "execution_count": 6,
   "metadata": {
    "collapsed": true
   },
   "outputs": [],
   "source": [
    "import praw\n",
    "import arrow\n",
    "import pprint\n",
    "import pickle"
   ]
  },
  {
   "cell_type": "code",
   "execution_count": 2,
   "metadata": {
    "collapsed": true
   },
   "outputs": [],
   "source": [
    "reddit = praw.Reddit(client_id='client_id',  # put yours\n",
    "                     client_secret='client_secret',  # put yours\n",
    "                     user_agent='user agent',\n",
    "                     username='username',  # put yours\n",
    "                     password='password')  # put yours\n",
    "\n",
    "sub = reddit.subreddit('rateme')\n",
    "\n",
    "created_stamp = sub.created_utc\n",
    "created_time = arrow.get(created_stamp)"
   ]
  },
  {
   "cell_type": "markdown",
   "metadata": {},
   "source": [
    "## Exploration"
   ]
  },
  {
   "cell_type": "code",
   "execution_count": 171,
   "metadata": {
    "collapsed": true
   },
   "outputs": [],
   "source": [
    "start = arrow.get(2015, 12, 14).timestamp\n",
    "end = arrow.get(2015, 12, 19).timestamp\n",
    "results = list(sub.submissions(start=start, end=end))"
   ]
  },
  {
   "cell_type": "code",
   "execution_count": 193,
   "metadata": {},
   "outputs": [
    {
     "data": {
      "text/plain": [
       "69"
      ]
     },
     "execution_count": 193,
     "metadata": {},
     "output_type": "execute_result"
    }
   ],
   "source": [
    "len(results)"
   ]
  },
  {
   "cell_type": "code",
   "execution_count": 194,
   "metadata": {
    "collapsed": true
   },
   "outputs": [],
   "source": [
    "import pickle"
   ]
  },
  {
   "cell_type": "code",
   "execution_count": 195,
   "metadata": {
    "collapsed": true
   },
   "outputs": [],
   "source": [
    "pickle.dump(results, open('test.bin', 'wb'))"
   ]
  },
  {
   "cell_type": "code",
   "execution_count": 197,
   "metadata": {
    "collapsed": true
   },
   "outputs": [],
   "source": [
    "restored = pickle.load(open('test.bin', 'rb'))"
   ]
  },
  {
   "cell_type": "code",
   "execution_count": 214,
   "metadata": {},
   "outputs": [
    {
     "data": {
      "text/plain": [
       "1450453333.0"
      ]
     },
     "execution_count": 214,
     "metadata": {},
     "output_type": "execute_result"
    }
   ],
   "source": [
    "restored[3].comments.list()[6].created_utc"
   ]
  },
  {
   "cell_type": "code",
   "execution_count": 202,
   "metadata": {},
   "outputs": [
    {
     "name": "stdout",
     "output_type": "stream",
     "text": [
      "{'_comments_by_id': {},\n",
      " '_fetched': False,\n",
      " '_flair': None,\n",
      " '_info_params': {},\n",
      " '_mod': None,\n",
      " '_reddit': <praw.reddit.Reddit object at 0x0000011A83406470>,\n",
      " 'approved_at_utc': None,\n",
      " 'approved_by': None,\n",
      " 'archived': True,\n",
      " 'author': Redditor(name='disclaimer_necessary'),\n",
      " 'author_flair_css_class': None,\n",
      " 'author_flair_text': None,\n",
      " 'banned_at_utc': None,\n",
      " 'banned_by': None,\n",
      " 'brand_safe': False,\n",
      " 'can_gild': True,\n",
      " 'can_mod_post': False,\n",
      " 'clicked': False,\n",
      " 'comment_limit': 2048,\n",
      " 'comment_sort': 'best',\n",
      " 'contest_mode': False,\n",
      " 'created': 1450438270.0,\n",
      " 'created_utc': 1450409470.0,\n",
      " 'distinguished': None,\n",
      " 'domain': 'imgur.com',\n",
      " 'downs': 0,\n",
      " 'edited': False,\n",
      " 'gilded': 0,\n",
      " 'hidden': False,\n",
      " 'hide_score': False,\n",
      " 'id': '3xato1',\n",
      " 'is_crosspostable': True,\n",
      " 'is_reddit_media_domain': False,\n",
      " 'is_self': False,\n",
      " 'is_video': False,\n",
      " 'likes': None,\n",
      " 'link_flair_css_class': None,\n",
      " 'link_flair_text': None,\n",
      " 'locked': False,\n",
      " 'media': {'oembed': {'description': \"This album is really big! It's going to \"\n",
      "                                     'take us a bit to get your download ready '\n",
      "                                     'for you. Enter your email and we will '\n",
      "                                     \"notify you when it's ready. Once ready, \"\n",
      "                                     'it will be available for up to 24 hours.',\n",
      "                      'height': 550,\n",
      "                      'html': '<iframe class=\"embedly-embed\" '\n",
      "                              'src=\"//cdn.embedly.com/widgets/media.html?src=%2F%2Fimgur.com%2Fa%2FkVGF9%2Fembed&url=http%3A%2F%2Fimgur.com%2Fa%2FkVGF9&image=http%3A%2F%2Fi.imgur.com%2FAOjR8ee.jpg%3Ffb&key=2aa3c4d5f3de4f5b9120b660ad850dc9&type=text%2Fhtml&schema=imgur\" '\n",
      "                              'width=\"550\" height=\"550\" scrolling=\"no\" '\n",
      "                              'frameborder=\"0\" allowfullscreen></iframe>',\n",
      "                      'provider_name': 'Imgur',\n",
      "                      'provider_url': 'http://imgur.com',\n",
      "                      'thumbnail_height': 270,\n",
      "                      'thumbnail_url': 'http://i.imgur.com/AOjR8ee.jpg?fb',\n",
      "                      'thumbnail_width': 480,\n",
      "                      'title': 'Imgur: The most awesome images on the Internet',\n",
      "                      'type': 'rich',\n",
      "                      'version': '1.0',\n",
      "                      'width': 550},\n",
      "           'type': 'imgur.com'},\n",
      " 'media_embed': {'content': '<iframe class=\"embedly-embed\" '\n",
      "                            'src=\"//cdn.embedly.com/widgets/media.html?src=%2F%2Fimgur.com%2Fa%2FkVGF9%2Fembed&url=http%3A%2F%2Fimgur.com%2Fa%2FkVGF9&image=http%3A%2F%2Fi.imgur.com%2FAOjR8ee.jpg%3Ffb&key=2aa3c4d5f3de4f5b9120b660ad850dc9&type=text%2Fhtml&schema=imgur\" '\n",
      "                            'width=\"550\" height=\"550\" scrolling=\"no\" '\n",
      "                            'frameborder=\"0\" allowfullscreen></iframe>',\n",
      "                 'height': 550,\n",
      "                 'scrolling': False,\n",
      "                 'width': 550},\n",
      " 'mod_note': None,\n",
      " 'mod_reason_by': None,\n",
      " 'mod_reason_title': None,\n",
      " 'mod_reports': [],\n",
      " 'name': 't3_3xato1',\n",
      " 'num_comments': 85,\n",
      " 'num_crossposts': 0,\n",
      " 'num_reports': None,\n",
      " 'over_18': False,\n",
      " 'parent_whitelist_status': 'house_only',\n",
      " 'permalink': '/r/Rateme/comments/3xato1/i_got_rid_of_the_red_and_went_blonde_and_im/',\n",
      " 'pinned': False,\n",
      " 'post_hint': 'link',\n",
      " 'preview': {'enabled': False,\n",
      "             'images': [{'id': 'a6M9ZYN0cKUlG48ErZa7rp6T1Wryl_DSNpXOFloBS2o',\n",
      "                         'resolutions': [{'height': 60,\n",
      "                                          'url': 'https://i.redditmedia.com/G8dQ4Oc2FjMi5dW8L-4VgyXNG-8SdqFsJe0yfuQ5RfU.jpg?fit=crop&crop=faces%2Centropy&arh=2&w=108&s=1ec809e9aa14677ea53d82bbf788968a',\n",
      "                                          'width': 108},\n",
      "                                         {'height': 121,\n",
      "                                          'url': 'https://i.redditmedia.com/G8dQ4Oc2FjMi5dW8L-4VgyXNG-8SdqFsJe0yfuQ5RfU.jpg?fit=crop&crop=faces%2Centropy&arh=2&w=216&s=82d15c40eb6952c4e337d6e76178d855',\n",
      "                                          'width': 216},\n",
      "                                         {'height': 180,\n",
      "                                          'url': 'https://i.redditmedia.com/G8dQ4Oc2FjMi5dW8L-4VgyXNG-8SdqFsJe0yfuQ5RfU.jpg?fit=crop&crop=faces%2Centropy&arh=2&w=320&s=092f6691eb1068995756042ec6803ade',\n",
      "                                          'width': 320}],\n",
      "                         'source': {'height': 270,\n",
      "                                    'url': 'https://i.redditmedia.com/G8dQ4Oc2FjMi5dW8L-4VgyXNG-8SdqFsJe0yfuQ5RfU.jpg?s=05a5533d648bbf7a2c89acbead6986b9',\n",
      "                                    'width': 480},\n",
      "                         'variants': {}}]},\n",
      " 'quarantine': False,\n",
      " 'removal_reason': None,\n",
      " 'report_reasons': None,\n",
      " 'saved': False,\n",
      " 'score': 159,\n",
      " 'secure_media': {'oembed': {'description': \"This album is really big! It's \"\n",
      "                                            'going to take us a bit to get '\n",
      "                                            'your download ready for you. '\n",
      "                                            'Enter your email and we will '\n",
      "                                            \"notify you when it's ready. Once \"\n",
      "                                            'ready, it will be available for '\n",
      "                                            'up to 24 hours.',\n",
      "                             'height': 550,\n",
      "                             'html': '<iframe class=\"embedly-embed\" '\n",
      "                                     'src=\"https://cdn.embedly.com/widgets/media.html?src=%2F%2Fimgur.com%2Fa%2FkVGF9%2Fembed&url=http%3A%2F%2Fimgur.com%2Fa%2FkVGF9&image=http%3A%2F%2Fi.imgur.com%2FAOjR8ee.jpg%3Ffb&key=2aa3c4d5f3de4f5b9120b660ad850dc9&type=text%2Fhtml&schema=imgur\" '\n",
      "                                     'width=\"550\" height=\"550\" scrolling=\"no\" '\n",
      "                                     'frameborder=\"0\" '\n",
      "                                     'allowfullscreen></iframe>',\n",
      "                             'provider_name': 'Imgur',\n",
      "                             'provider_url': 'http://imgur.com',\n",
      "                             'thumbnail_height': 270,\n",
      "                             'thumbnail_url': 'https://i.embed.ly/1/image?url=http%3A%2F%2Fi.imgur.com%2FAOjR8ee.jpg%3Ffb&key=b1e305db91cf4aa5a86b732cc9fffceb',\n",
      "                             'thumbnail_width': 480,\n",
      "                             'title': 'Imgur: The most awesome images on the '\n",
      "                                      'Internet',\n",
      "                             'type': 'rich',\n",
      "                             'version': '1.0',\n",
      "                             'width': 550},\n",
      "                  'type': 'imgur.com'},\n",
      " 'secure_media_embed': {'content': '<iframe class=\"embedly-embed\" '\n",
      "                                   'src=\"https://cdn.embedly.com/widgets/media.html?src=%2F%2Fimgur.com%2Fa%2FkVGF9%2Fembed&url=http%3A%2F%2Fimgur.com%2Fa%2FkVGF9&image=http%3A%2F%2Fi.imgur.com%2FAOjR8ee.jpg%3Ffb&key=2aa3c4d5f3de4f5b9120b660ad850dc9&type=text%2Fhtml&schema=imgur\" '\n",
      "                                   'width=\"550\" height=\"550\" scrolling=\"no\" '\n",
      "                                   'frameborder=\"0\" allowfullscreen></iframe>',\n",
      "                        'height': 550,\n",
      "                        'media_domain_url': 'https://www.redditmedia.com/mediaembed/3xato1',\n",
      "                        'scrolling': False,\n",
      "                        'width': 550},\n",
      " 'selftext': '',\n",
      " 'selftext_html': None,\n",
      " 'spoiler': False,\n",
      " 'stickied': False,\n",
      " 'subreddit': Subreddit(display_name='Rateme'),\n",
      " 'subreddit_id': 't5_2re84',\n",
      " 'subreddit_name_prefixed': 'r/Rateme',\n",
      " 'subreddit_type': 'public',\n",
      " 'suggested_sort': None,\n",
      " 'thumbnail': 'https://a.thumbs.redditmedia.com/dbK-uFpHfwy2dz--tn-MlTPfnYinpM7YzRjJDfJCR44.jpg',\n",
      " 'thumbnail_height': 78,\n",
      " 'thumbnail_width': 140,\n",
      " 'title': 'i got rid of the red and went blonde, and Im thinking its a huge '\n",
      "          'improvement [25F]',\n",
      " 'ups': 159,\n",
      " 'url': 'http://imgur.com/a/kVGF9',\n",
      " 'user_reports': [],\n",
      " 'view_count': None,\n",
      " 'visited': False,\n",
      " 'whitelist_status': 'house_only'}\n"
     ]
    }
   ],
   "source": [
    "pprint.pprint(vars(restored[3]))"
   ]
  },
  {
   "cell_type": "code",
   "execution_count": 168,
   "metadata": {},
   "outputs": [
    {
     "name": "stdout",
     "output_type": "stream",
     "text": [
      "[M21] Kinda nervous to post here, but excited to find what needs improvement!\n",
      "1\n",
      "5k3tvs\n",
      "http://imgur.com/a/fgNVN\n",
      "/r/Rateme/comments/5k3tvs/m21_kinda_nervous_to_post_here_but_excited_to/\n",
      "Tfrazzledazzle\n"
     ]
    }
   ],
   "source": [
    "print(post.title)\n",
    "print(post.score)\n",
    "print(post.id)\n",
    "print(post.url)\n",
    "print(post.permalink)\n",
    "author = post.author\n",
    "print(author.name)"
   ]
  },
  {
   "cell_type": "code",
   "execution_count": 186,
   "metadata": {
    "collapsed": true
   },
   "outputs": [],
   "source": [
    "post = results[15]"
   ]
  },
  {
   "cell_type": "code",
   "execution_count": 187,
   "metadata": {},
   "outputs": [
    {
     "name": "stdout",
     "output_type": "stream",
     "text": [
      "{'_comments_by_id': {},\n",
      " '_fetched': False,\n",
      " '_flair': None,\n",
      " '_info_params': {},\n",
      " '_mod': None,\n",
      " '_reddit': <praw.reddit.Reddit object at 0x0000011AFFF8FC50>,\n",
      " 'approved_at_utc': None,\n",
      " 'approved_by': None,\n",
      " 'archived': True,\n",
      " 'author': Redditor(name='ElanMoyal'),\n",
      " 'author_flair_css_class': None,\n",
      " 'author_flair_text': None,\n",
      " 'banned_at_utc': None,\n",
      " 'banned_by': None,\n",
      " 'brand_safe': False,\n",
      " 'can_gild': True,\n",
      " 'can_mod_post': False,\n",
      " 'clicked': False,\n",
      " 'comment_limit': 2048,\n",
      " 'comment_sort': 'best',\n",
      " 'contest_mode': False,\n",
      " 'created': 1450278092.0,\n",
      " 'created_utc': 1450249292.0,\n",
      " 'distinguished': None,\n",
      " 'domain': 'imgur.com',\n",
      " 'downs': 0,\n",
      " 'edited': False,\n",
      " 'gilded': 0,\n",
      " 'hidden': False,\n",
      " 'hide_score': False,\n",
      " 'id': '3x1v7x',\n",
      " 'is_crosspostable': True,\n",
      " 'is_reddit_media_domain': False,\n",
      " 'is_self': False,\n",
      " 'is_video': False,\n",
      " 'likes': None,\n",
      " 'link_flair_css_class': None,\n",
      " 'link_flair_text': None,\n",
      " 'locked': False,\n",
      " 'media': {'oembed': {'description': \"This album is really big! It's going to \"\n",
      "                                     'take us a bit to get your download ready '\n",
      "                                     'for you. Enter your email and we will '\n",
      "                                     \"notify you when it's ready. Once ready, \"\n",
      "                                     'it will be available for up to 24 hours.',\n",
      "                      'height': 550,\n",
      "                      'html': '<iframe class=\"embedly-embed\" '\n",
      "                              'src=\"//cdn.embedly.com/widgets/media.html?src=%2F%2Fimgur.com%2Fa%2Fez7E1%2Fembed&url=http%3A%2F%2Fimgur.com%2Fa%2Fez7E1&image=http%3A%2F%2Fi.imgur.com%2FIZ5SZlr.jpg%3Ffb&key=2aa3c4d5f3de4f5b9120b660ad850dc9&type=text%2Fhtml&schema=imgur\" '\n",
      "                              'width=\"550\" height=\"550\" scrolling=\"no\" '\n",
      "                              'frameborder=\"0\" allowfullscreen></iframe>',\n",
      "                      'provider_name': 'Imgur',\n",
      "                      'provider_url': 'http://imgur.com',\n",
      "                      'thumbnail_height': 270,\n",
      "                      'thumbnail_url': 'http://i.imgur.com/IZ5SZlr.jpg?fb',\n",
      "                      'thumbnail_width': 480,\n",
      "                      'title': 'RateMe',\n",
      "                      'type': 'rich',\n",
      "                      'version': '1.0',\n",
      "                      'width': 550},\n",
      "           'type': 'imgur.com'},\n",
      " 'media_embed': {'content': '<iframe class=\"embedly-embed\" '\n",
      "                            'src=\"//cdn.embedly.com/widgets/media.html?src=%2F%2Fimgur.com%2Fa%2Fez7E1%2Fembed&url=http%3A%2F%2Fimgur.com%2Fa%2Fez7E1&image=http%3A%2F%2Fi.imgur.com%2FIZ5SZlr.jpg%3Ffb&key=2aa3c4d5f3de4f5b9120b660ad850dc9&type=text%2Fhtml&schema=imgur\" '\n",
      "                            'width=\"550\" height=\"550\" scrolling=\"no\" '\n",
      "                            'frameborder=\"0\" allowfullscreen></iframe>',\n",
      "                 'height': 550,\n",
      "                 'scrolling': False,\n",
      "                 'width': 550},\n",
      " 'mod_note': None,\n",
      " 'mod_reason_by': None,\n",
      " 'mod_reason_title': None,\n",
      " 'mod_reports': [],\n",
      " 'name': 't3_3x1v7x',\n",
      " 'num_comments': 8,\n",
      " 'num_crossposts': 0,\n",
      " 'num_reports': None,\n",
      " 'over_18': False,\n",
      " 'parent_whitelist_status': 'house_only',\n",
      " 'permalink': '/r/Rateme/comments/3x1v7x/23m_just_curious/',\n",
      " 'pinned': False,\n",
      " 'post_hint': 'link',\n",
      " 'preview': {'enabled': False,\n",
      "             'images': [{'id': 'KYLkK_tQ6X2myzaO2bW6nU3JOeARXhebHtaoywyNkXA',\n",
      "                         'resolutions': [{'height': 60,\n",
      "                                          'url': 'https://i.redditmedia.com/2qF35LSevba84ouubAMK_3nTpo3WfDX2t_Y9tiJwuuU.jpg?fit=crop&crop=faces%2Centropy&arh=2&w=108&s=ea156f1a9c5d32c147aaa4d315fc0d71',\n",
      "                                          'width': 108},\n",
      "                                         {'height': 121,\n",
      "                                          'url': 'https://i.redditmedia.com/2qF35LSevba84ouubAMK_3nTpo3WfDX2t_Y9tiJwuuU.jpg?fit=crop&crop=faces%2Centropy&arh=2&w=216&s=06c43d371c97041271baa96359316001',\n",
      "                                          'width': 216},\n",
      "                                         {'height': 180,\n",
      "                                          'url': 'https://i.redditmedia.com/2qF35LSevba84ouubAMK_3nTpo3WfDX2t_Y9tiJwuuU.jpg?fit=crop&crop=faces%2Centropy&arh=2&w=320&s=57ee28f163610bf4b232f7560f250d25',\n",
      "                                          'width': 320}],\n",
      "                         'source': {'height': 270,\n",
      "                                    'url': 'https://i.redditmedia.com/2qF35LSevba84ouubAMK_3nTpo3WfDX2t_Y9tiJwuuU.jpg?s=c9cdc22da6e13ba63a0f96c81700240e',\n",
      "                                    'width': 480},\n",
      "                         'variants': {}}]},\n",
      " 'quarantine': False,\n",
      " 'removal_reason': None,\n",
      " 'report_reasons': None,\n",
      " 'saved': False,\n",
      " 'score': 1,\n",
      " 'secure_media': {'oembed': {'description': \"This album is really big! It's \"\n",
      "                                            'going to take us a bit to get '\n",
      "                                            'your download ready for you. '\n",
      "                                            'Enter your email and we will '\n",
      "                                            \"notify you when it's ready. Once \"\n",
      "                                            'ready, it will be available for '\n",
      "                                            'up to 24 hours.',\n",
      "                             'height': 550,\n",
      "                             'html': '<iframe class=\"embedly-embed\" '\n",
      "                                     'src=\"https://cdn.embedly.com/widgets/media.html?src=%2F%2Fimgur.com%2Fa%2Fez7E1%2Fembed&url=http%3A%2F%2Fimgur.com%2Fa%2Fez7E1&image=http%3A%2F%2Fi.imgur.com%2FIZ5SZlr.jpg%3Ffb&key=2aa3c4d5f3de4f5b9120b660ad850dc9&type=text%2Fhtml&schema=imgur\" '\n",
      "                                     'width=\"550\" height=\"550\" scrolling=\"no\" '\n",
      "                                     'frameborder=\"0\" '\n",
      "                                     'allowfullscreen></iframe>',\n",
      "                             'provider_name': 'Imgur',\n",
      "                             'provider_url': 'http://imgur.com',\n",
      "                             'thumbnail_height': 270,\n",
      "                             'thumbnail_url': 'https://i.embed.ly/1/image?url=http%3A%2F%2Fi.imgur.com%2FIZ5SZlr.jpg%3Ffb&key=b1e305db91cf4aa5a86b732cc9fffceb',\n",
      "                             'thumbnail_width': 480,\n",
      "                             'title': 'RateMe',\n",
      "                             'type': 'rich',\n",
      "                             'version': '1.0',\n",
      "                             'width': 550},\n",
      "                  'type': 'imgur.com'},\n",
      " 'secure_media_embed': {'content': '<iframe class=\"embedly-embed\" '\n",
      "                                   'src=\"https://cdn.embedly.com/widgets/media.html?src=%2F%2Fimgur.com%2Fa%2Fez7E1%2Fembed&url=http%3A%2F%2Fimgur.com%2Fa%2Fez7E1&image=http%3A%2F%2Fi.imgur.com%2FIZ5SZlr.jpg%3Ffb&key=2aa3c4d5f3de4f5b9120b660ad850dc9&type=text%2Fhtml&schema=imgur\" '\n",
      "                                   'width=\"550\" height=\"550\" scrolling=\"no\" '\n",
      "                                   'frameborder=\"0\" allowfullscreen></iframe>',\n",
      "                        'height': 550,\n",
      "                        'media_domain_url': 'https://www.redditmedia.com/mediaembed/3x1v7x',\n",
      "                        'scrolling': False,\n",
      "                        'width': 550},\n",
      " 'selftext': '',\n",
      " 'selftext_html': None,\n",
      " 'spoiler': False,\n",
      " 'stickied': False,\n",
      " 'subreddit': Subreddit(display_name='Rateme'),\n",
      " 'subreddit_id': 't5_2re84',\n",
      " 'subreddit_name_prefixed': 'r/Rateme',\n",
      " 'subreddit_type': 'public',\n",
      " 'suggested_sort': None,\n",
      " 'thumbnail': 'https://b.thumbs.redditmedia.com/GrZrD7R9O6gXiW1chgLttxZyfyoMCK1E9S-_cbU3SlI.jpg',\n",
      " 'thumbnail_height': 78,\n",
      " 'thumbnail_width': 140,\n",
      " 'title': '23/M Just curious',\n",
      " 'ups': 1,\n",
      " 'url': 'http://imgur.com/a/ez7E1',\n",
      " 'user_reports': [],\n",
      " 'view_count': None,\n",
      " 'visited': False,\n",
      " 'whitelist_status': 'house_only'}\n"
     ]
    }
   ],
   "source": [
    "pprint.pprint(vars(post))"
   ]
  },
  {
   "cell_type": "code",
   "execution_count": 190,
   "metadata": {},
   "outputs": [
    {
     "data": {
      "text/plain": [
       "[Comment(id='cy0vs7c'),\n",
       " Comment(id='cy10fw6'),\n",
       " Comment(id='cy182s0'),\n",
       " Comment(id='cy1aw43'),\n",
       " Comment(id='cy31oa5'),\n",
       " Comment(id='cy1dq8b'),\n",
       " Comment(id='cy1dlwb'),\n",
       " Comment(id='cy1dl93'),\n",
       " Comment(id='cy3im0t'),\n",
       " Comment(id='cy3ji8s')]"
      ]
     },
     "execution_count": 190,
     "metadata": {},
     "output_type": "execute_result"
    }
   ],
   "source": [
    "post.comments.list()"
   ]
  },
  {
   "cell_type": "code",
   "execution_count": 145,
   "metadata": {
    "collapsed": true
   },
   "outputs": [],
   "source": [
    "replacement_res = post.comments.replace_more()  # I don't need the return value"
   ]
  },
  {
   "cell_type": "code",
   "execution_count": 157,
   "metadata": {
    "collapsed": true
   },
   "outputs": [],
   "source": [
    "# for i, comment in enumerate(post.comments):\n",
    "#     print(i, comment.body)"
   ]
  },
  {
   "cell_type": "code",
   "execution_count": 156,
   "metadata": {},
   "outputs": [
    {
     "data": {
      "text/plain": [
       "8"
      ]
     },
     "execution_count": 156,
     "metadata": {},
     "output_type": "execute_result"
    }
   ],
   "source": [
    "len(post.comments.list())"
   ]
  },
  {
   "cell_type": "code",
   "execution_count": 106,
   "metadata": {},
   "outputs": [
    {
     "data": {
      "text/plain": [
       "\"You're a little above average, I like the shirt.\""
      ]
     },
     "execution_count": 106,
     "metadata": {},
     "output_type": "execute_result"
    }
   ],
   "source": [
    "results[0].comments[0].body"
   ]
  },
  {
   "cell_type": "code",
   "execution_count": 93,
   "metadata": {},
   "outputs": [
    {
     "data": {
      "text/plain": [
       "'t1_c0h7wut'"
      ]
     },
     "execution_count": 93,
     "metadata": {},
     "output_type": "execute_result"
    }
   ],
   "source": [
    "list(results[0].comments)[0].name"
   ]
  },
  {
   "cell_type": "markdown",
   "metadata": {},
   "source": [
    "## Fetching submissions with comments to a large list and pickling it"
   ]
  },
  {
   "cell_type": "code",
   "execution_count": 7,
   "metadata": {
    "collapsed": true
   },
   "outputs": [],
   "source": [
    "results = []"
   ]
  },
  {
   "cell_type": "code",
   "execution_count": 8,
   "metadata": {
    "collapsed": true
   },
   "outputs": [],
   "source": [
    "cur_time = created_time\n",
    "prev_year, prev_month = created_time.year, created_time.month"
   ]
  },
  {
   "cell_type": "code",
   "execution_count": 9,
   "metadata": {
    "scrolled": true
   },
   "outputs": [
    {
     "name": "stdout",
     "output_type": "stream",
     "text": [
      "2010 1\n",
      "2\n",
      "2010 2\n",
      "2\n",
      "2010 3\n",
      "2\n",
      "2010 4\n",
      "2\n",
      "2010 5\n",
      "3\n",
      "2010 6\n",
      "3\n",
      "2010 7\n",
      "3\n",
      "2010 8\n",
      "5\n",
      "2010 9\n",
      "7\n",
      "2010 10\n",
      "10\n",
      "2010 11\n",
      "14\n",
      "2010 12\n",
      "15\n",
      "2011 1\n",
      "25\n",
      "2011 2\n",
      "42\n",
      "2011 3\n",
      "50\n",
      "2011 4\n",
      "62\n",
      "2011 5\n",
      "77\n",
      "2011 6\n",
      "87\n",
      "2011 7\n",
      "112\n",
      "2011 8\n",
      "147\n",
      "2011 9\n",
      "186\n",
      "2011 10\n",
      "216\n",
      "2011 11\n",
      "251\n",
      "2011 12\n",
      "314\n",
      "2012 1\n",
      "402\n",
      "2012 2\n",
      "492\n",
      "2012 3\n",
      "606\n",
      "2012 4\n",
      "720\n",
      "2012 5\n",
      "876\n",
      "2012 6\n",
      "1051\n",
      "2012 7\n",
      "1208\n",
      "2012 8\n",
      "1448\n",
      "2012 9\n",
      "1679\n",
      "2012 10\n",
      "1893\n",
      "2012 11\n",
      "2074\n",
      "2012 12\n",
      "2270\n",
      "2013 1\n",
      "2523\n",
      "2013 2\n",
      "2810\n",
      "2013 3\n",
      "3057\n",
      "2013 4\n",
      "3326\n",
      "2013 5\n",
      "3894\n",
      "2013 6\n",
      "4284\n",
      "2013 7\n",
      "4584\n",
      "2013 8\n",
      "4997\n",
      "2013 9\n",
      "5361\n",
      "2013 10\n",
      "5681\n",
      "2013 11\n",
      "6026\n",
      "2013 12\n",
      "6332\n",
      "2014 1\n",
      "6749\n",
      "2014 2\n",
      "7347\n",
      "2014 3\n",
      "7945\n",
      "2014 4\n",
      "8464\n",
      "2014 5\n",
      "8975\n",
      "2014 6\n",
      "9428\n",
      "2014 7\n",
      "9968\n",
      "2014 8\n",
      "10563\n",
      "2014 9\n",
      "11077\n",
      "2014 10\n",
      "12194\n",
      "2014 11\n",
      "12873\n",
      "2014 12\n",
      "13512\n",
      "2015 1\n",
      "14292\n",
      "2015 2\n",
      "15151\n",
      "2015 3\n",
      "15896\n",
      "2015 4\n",
      "16647\n",
      "2015 5\n",
      "17374\n",
      "2015 6\n",
      "18295\n",
      "2015 7\n",
      "18926\n",
      "2015 8\n",
      "19510\n",
      "2015 9\n",
      "19932\n",
      "2015 10\n",
      "20479\n",
      "2015 11\n",
      "21176\n",
      "2015 12\n",
      "21897\n",
      "2016 1\n",
      "22257\n",
      "2016 2\n",
      "22544\n",
      "2016 3\n",
      "22812\n",
      "2016 4\n",
      "23047\n",
      "2016 5\n",
      "23290\n",
      "2016 6\n",
      "23541\n",
      "2016 7\n",
      "23791\n",
      "2016 8\n",
      "24039\n",
      "2016 9\n",
      "24287\n",
      "2016 10\n",
      "24503\n",
      "2016 11\n",
      "24748\n",
      "2016 12\n",
      "24957\n",
      "2017 1\n",
      "25179\n",
      "2017 2\n",
      "25423\n",
      "2017 3\n",
      "25631\n",
      "2017 4\n",
      "25854\n",
      "2017 5\n",
      "26058\n",
      "2017 6\n",
      "26333\n",
      "2017 7\n",
      "26589\n",
      "2017 8\n",
      "26856\n",
      "2017 9\n",
      "27127\n",
      "2017 10\n",
      "27433\n",
      "2017 11\n",
      "27750\n",
      "2017 12\n",
      "28081\n",
      "2018 1\n",
      "28409\n",
      "2018 2\n",
      "28893\n"
     ]
    }
   ],
   "source": [
    "while cur_time < arrow.now():\n",
    "    cur_end_time = cur_time.replace(days=0.5)\n",
    "    cur_list = list(sub.submissions(start=cur_time.timestamp, end=cur_end_time.timestamp))\n",
    "    results.extend(cur_list)\n",
    "    if cur_time.month > prev_month or cur_time.year > prev_year:\n",
    "        prev_year = cur_time.year\n",
    "        prev_month = cur_time.month\n",
    "        print(cur_time.year, cur_time.month)\n",
    "        print(len(results))\n",
    "        pickle.dump(results, open('rateme_submissions.dat', 'wb'))\n",
    "    cur_time = cur_end_time"
   ]
  },
  {
   "cell_type": "code",
   "execution_count": 5,
   "metadata": {
    "collapsed": true
   },
   "outputs": [],
   "source": []
  },
  {
   "cell_type": "code",
   "execution_count": 11,
   "metadata": {
    "collapsed": true
   },
   "outputs": [],
   "source": []
  },
  {
   "cell_type": "code",
   "execution_count": null,
   "metadata": {
    "collapsed": true
   },
   "outputs": [],
   "source": []
  }
 ],
 "metadata": {
  "kernelspec": {
   "display_name": "Python 3",
   "language": "python",
   "name": "python3"
  },
  "language_info": {
   "codemirror_mode": {
    "name": "ipython",
    "version": 3
   },
   "file_extension": ".py",
   "mimetype": "text/x-python",
   "name": "python",
   "nbconvert_exporter": "python",
   "pygments_lexer": "ipython3",
   "version": "3.6.1"
  }
 },
 "nbformat": 4,
 "nbformat_minor": 2
}
